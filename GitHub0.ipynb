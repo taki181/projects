{
 "cells": [
  {
   "cell_type": "code",
   "execution_count": 39,
   "metadata": {
    "scrolled": true
   },
   "outputs": [],
   "source": [
    "import numpy as np\n",
    "number = np.random.randint(1,101)      # загадали число\n",
    "\n",
    "\n",
    "def score_game(game_core):\n",
    "    '''Запускаем игру 1000 раз, чтобы узнать, как быстро игра угадывает число'''\n",
    "    count_ls = []\n",
    "    np.random.seed(1)  # фиксируем RANDOM SEED, чтобы ваш эксперимент был воспроизводим!\n",
    "    random_array = np.random.randint(1,101, size=(1000))\n",
    "    for number in random_array:\n",
    "        count_ls.append(game_core(number))\n",
    "    score = int(np.mean(count_ls))\n",
    "    print(f\"Ваш алгоритм угадывает число в среднем за {score} попыток\")\n",
    "    return(score)\n",
    "\n",
    "\n",
    "def game_core_v3(number):\n",
    "    '''Делим заданный диапазон на 2, диапазон в котором нет загаданного числа - отсеивается'''\n",
    "    count = 1\n",
    "    predict = 50 # граница диапазонов\n",
    "    lowerLimit = 1 # нижний лимит чисел\n",
    "    upperLimit = 101 # верхний лимит чисел\n",
    "    while number != predict: \n",
    "        count += 1\n",
    "        if predict > number:     # если загаданное число меньше 50\n",
    "            upperLimit = predict # устанавливаем верхний лимит в 50\n",
    "        elif predict < number:   # если загаданное число больше 50\n",
    "            lowerLimit = predict # устанавливаем нижний лимит в 50\n",
    "        predict = lowerLimit + (upperLimit - lowerLimit) // 2 \n",
    "        # отсеиваем ненужные диапазоны, пока не найдем загаданное число\n",
    "    return(count)  "
   ]
  },
  {
   "cell_type": "code",
   "execution_count": 40,
   "metadata": {},
   "outputs": [
    {
     "name": "stdout",
     "output_type": "stream",
     "text": [
      "Ваш алгоритм угадывает число в среднем за 5 попыток\n"
     ]
    },
    {
     "data": {
      "text/plain": [
       "5"
      ]
     },
     "execution_count": 40,
     "metadata": {},
     "output_type": "execute_result"
    }
   ],
   "source": [
    "score_game(game_core_v3)"
   ]
  }
 ],
 "metadata": {
  "kernelspec": {
   "display_name": "Python 3",
   "language": "python",
   "name": "python3"
  },
  "language_info": {
   "codemirror_mode": {
    "name": "ipython",
    "version": 3
   },
   "file_extension": ".py",
   "mimetype": "text/x-python",
   "name": "python",
   "nbconvert_exporter": "python",
   "pygments_lexer": "ipython3",
   "version": "3.8.5"
  }
 },
 "nbformat": 4,
 "nbformat_minor": 4
}
